{
 "cells": [
  {
   "cell_type": "code",
   "execution_count": 1,
   "id": "ea18b41f-27e0-4c5c-909c-713f7cc528f9",
   "metadata": {},
   "outputs": [],
   "source": [
    "#pip install bs4"
   ]
  },
  {
   "cell_type": "code",
   "execution_count": 190,
   "id": "e8b90ca5-17d5-44c4-81ab-b2d66e0c38c4",
   "metadata": {},
   "outputs": [],
   "source": [
    "import requests\n",
    "import pandas as pd\n",
    "from bs4 import BeautifulSoup"
   ]
  },
  {
   "cell_type": "code",
   "execution_count": 191,
   "id": "27530b62-471c-44e3-982f-80f22f7a1bfa",
   "metadata": {},
   "outputs": [],
   "source": [
    "url=\"https://www.flipkart.com/redmi-13c-starshine-green-128-gb/p/itmc4f0763fb3a50?pid=MOBGW4HKUXHFDYU2&q=mobile+&store=tyy%2F4io&srno=s_1_6&otracker=search&otracker1=search&fm=organic&iid=918458fb-30f0-4d89-a74b-d4b07df4f714.MOBGW4HKUXHFDYU2.SEARCH&ppt=hp&ppn=homepage&ssid=ng5e89y4kw0000001720606287432&qH=179b063c26bcaa74\""
   ]
  },
  {
   "cell_type": "code",
   "execution_count": 192,
   "id": "1610a15f-f639-4dc5-b3c3-951c2098d551",
   "metadata": {},
   "outputs": [
    {
     "name": "stdout",
     "output_type": "stream",
     "text": [
      "<Response [200]>\n"
     ]
    }
   ],
   "source": [
    "r= requests.get(url)\n",
    "print(r)"
   ]
  },
  {
   "cell_type": "code",
   "execution_count": null,
   "id": "dc0def0d-cad7-4676-b195-a1be6b593211",
   "metadata": {},
   "outputs": [],
   "source": [
    "soup= BeautifulSoup(r.content,\"html.parser\")\n",
    "print(soup.prettify())"
   ]
  },
  {
   "cell_type": "code",
   "execution_count": 194,
   "id": "8c0ae320-28a7-46e6-8aa8-ef15911da853",
   "metadata": {},
   "outputs": [
    {
     "name": "stdout",
     "output_type": "stream",
     "text": [
      "<title>\n",
      " REDMI 13C ( 128 GB Storage, 4 GB RAM ) Online at Best Price On Flipkart.com\n",
      "</title>\n",
      "\n"
     ]
    }
   ],
   "source": [
    "res=soup.title\n",
    "print(res.prettify())"
   ]
  },
  {
   "cell_type": "code",
   "execution_count": 195,
   "id": "61c82a14-988c-494e-8551-ec9e59dbb941",
   "metadata": {},
   "outputs": [
    {
     "name": "stdout",
     "output_type": "stream",
     "text": [
      "REDMI 13C ( 128 GB Storage, 4 GB RAM ) Online at Best Price On Flipkart.com\n"
     ]
    }
   ],
   "source": [
    "res=soup.title\n",
    "print(res.get_text())"
   ]
  },
  {
   "cell_type": "code",
   "execution_count": 196,
   "id": "b7fbf5f5-5228-46a2-9be9-6eefa88eaf95",
   "metadata": {},
   "outputs": [],
   "source": [
    "url1=[\"https://www.flipkart.com/redmi-13c-starshine-green-128-gb/p/itmc4f0763fb3a50?pid=MOBGW4HKUXHFDYU2&q=mobile+&store=tyy%2F4io&srno=s_1_6&otracker=search&otracker1=search&fm=organic&iid=918458fb-30f0-4d89-a74b-d4b07df4f714.MOBGW4HKUXHFDYU2.SEARCH&ppt=hp&ppn=homepage&ssid=ng5e89y4kw0000001720606287432&qH=179b063c26bcaa74#:~:text=Extra%20%E2%82%B94300%20off-,%E2%82%B97%2C699,-%E2%82%B911%2C999\"]"
   ]
  },
  {
   "cell_type": "code",
   "execution_count": 197,
   "id": "ea43f7a4-c48c-4a7b-b46c-179ee33a9739",
   "metadata": {},
   "outputs": [],
   "source": [
    "def extract(url1):\n",
    "    webpage=requests.get(url1)\n",
    "    web=webpage.content\n",
    "    soup=BeautifulSoup(web,\"html.parser\")\n",
    "    value=soup.find(\"div\",{\"class\":\"Nx9bqj CxhGGd\"})\n",
    "    m=value.text\n",
    "    print(m)"
   ]
  },
  {
   "cell_type": "code",
   "execution_count": 198,
   "id": "0370f38b-6639-416e-88d3-cf5f1cb71ed1",
   "metadata": {},
   "outputs": [
    {
     "name": "stdout",
     "output_type": "stream",
     "text": [
      "₹7,699\n"
     ]
    }
   ],
   "source": [
    "result=[extract(url1) for url1 in url1]"
   ]
  },
  {
   "cell_type": "code",
   "execution_count": 199,
   "id": "f46be4b7-3a04-48f1-8f05-9c0b935a82e9",
   "metadata": {},
   "outputs": [],
   "source": [
    "def extract(url1):\n",
    "    webpage=requests.get(url1)\n",
    "    web=webpage.content\n",
    "    soup=BeautifulSoup(web,\"html.parser\")\n",
    "    value=soup.find(\"div\",{\"class\":\"XQDdHH\"})\n",
    "    m=value.text\n",
    "    print(m)"
   ]
  },
  {
   "cell_type": "code",
   "execution_count": 200,
   "id": "c81abc95-c003-47e6-8180-3c5ddc6c36f1",
   "metadata": {},
   "outputs": [
    {
     "name": "stdout",
     "output_type": "stream",
     "text": [
      "4.3\n"
     ]
    }
   ],
   "source": [
    "result=[extract(url1) for url1 in url1]"
   ]
  },
  {
   "cell_type": "code",
   "execution_count": 201,
   "id": "d491dd15-7045-4dfb-aeee-54d9eed0c92d",
   "metadata": {},
   "outputs": [],
   "source": [
    "def extract(url1):\n",
    "    webpage=requests.get(url1)\n",
    "    web=webpage.content\n",
    "    soup=BeautifulSoup(web,\"html.parser\")\n",
    "    value=soup.find(\"div\",{\"class\":\"_23J90q RcXBOT\"})\n",
    "    m=value.text\n",
    "    print(m)"
   ]
  },
  {
   "cell_type": "code",
   "execution_count": 202,
   "id": "2c6c7221-9fa3-4057-9b9f-228351f3f2d0",
   "metadata": {},
   "outputs": [
    {
     "name": "stdout",
     "output_type": "stream",
     "text": [
      "All 1151 reviews\n"
     ]
    }
   ],
   "source": [
    "result=[extract(url1) for url1 in url1]"
   ]
  },
  {
   "cell_type": "code",
   "execution_count": 203,
   "id": "a6973bad-04e8-4688-89fd-cf6ac292b3a3",
   "metadata": {},
   "outputs": [],
   "source": [
    "def extract_rating(url):\n",
    "    try:\n",
    "        # Get the webpage content\n",
    "        response = requests.get(url)\n",
    "        response.raise_for_status()  # Check if the request was successful\n",
    "        \n",
    "        # Parse the webpage content using BeautifulSoup\n",
    "        web_content = response.content\n",
    "        soup = BeautifulSoup(web_content, \"html.parser\")\n",
    "        \n",
    "        # Debug: Print a part of the parsed HTML to ensure it's correct\n",
    "        print(\"Debug: HTML Content Sample:\")\n",
    "        print(soup.prettify()[:500])  # Print the first 500 characters of the parsed HTML\n",
    "        \n",
    "        # Find the div with the specific class containing the rating\n",
    "        rating_div = soup.find(\"div\", {\"class\": \"XQDdHH\"})\n",
    "        \n",
    "        # Check if the rating div was found\n",
    "        if rating_div:\n",
    "            m = rating_div.text.strip()  # Remove any surrounding whitespace\n",
    "            print(\"Rating:\", m)\n",
    "        else:\n",
    "            print(\"Rating not found.\")\n",
    "    \n",
    "    except requests.exceptions.RequestException as e:\n",
    "        print(f\"An error occurred: {e}\")"
   ]
  },
  {
   "cell_type": "code",
   "execution_count": 204,
   "id": "65833ac6-00b9-451e-9c73-6f436f3508c7",
   "metadata": {},
   "outputs": [],
   "source": [
    "url2=\"https://www.flipkart.com/search?q=mobile&otracker=search&otracker1=search&marketplace=FLIPKART&as-show=on&as=off\""
   ]
  },
  {
   "cell_type": "code",
   "execution_count": null,
   "id": "709d318e-23ce-4205-94ff-7a1682e4cc81",
   "metadata": {},
   "outputs": [],
   "source": [
    "soup= BeautifulSoup(r.content,\"html.parser\")\n",
    "print(soup.prettify())"
   ]
  },
  {
   "cell_type": "code",
   "execution_count": 206,
   "id": "4d0a95d3-360f-4919-b79a-40907c119413",
   "metadata": {},
   "outputs": [
    {
     "name": "stdout",
     "output_type": "stream",
     "text": [
      "<Response [200]>\n"
     ]
    }
   ],
   "source": [
    "r= requests.get(url2)\n",
    "print(r)"
   ]
  },
  {
   "cell_type": "code",
   "execution_count": 207,
   "id": "dc3b9c2a-3b5f-432f-b140-7702b028235b",
   "metadata": {},
   "outputs": [
    {
     "name": "stdout",
     "output_type": "stream",
     "text": [
      "<title>\n",
      " REDMI 13C ( 128 GB Storage, 4 GB RAM ) Online at Best Price On Flipkart.com\n",
      "</title>\n",
      "\n"
     ]
    }
   ],
   "source": [
    "res=soup.title\n",
    "print(res.prettify())"
   ]
  },
  {
   "cell_type": "code",
   "execution_count": 208,
   "id": "e2c3d875-1bed-42da-b0e7-962e25e42280",
   "metadata": {},
   "outputs": [
    {
     "name": "stdout",
     "output_type": "stream",
     "text": [
      "REDMI 13C ( 128 GB Storage, 4 GB RAM ) Online at Best Price On Flipkart.com\n"
     ]
    }
   ],
   "source": [
    "res=soup.title\n",
    "print(res.get_text())"
   ]
  },
  {
   "cell_type": "code",
   "execution_count": 209,
   "id": "c93f97cd-58d9-4118-ba8b-9a31a2ffe8e0",
   "metadata": {},
   "outputs": [],
   "source": [
    "url3=\"https://www.flipkart.com/vivo-t3x-5g-celestial-green-128-gb/p/itm263ed44f56cd5?pid=MOBGZRNERKDV5ECF&lid=LSTMOBGZRNERKDV5ECFPTZAWE&marketplace=FLIPKART&q=mobile&store=tyy%2F4io&spotlightTagId=BestsellerId_tyy%2F4io&srno=s_1_16&otracker=search&otracker1=search&fm=Search&iid=d7329042-5a43-412e-97ff-4121f450a7da.MOBGZRNERKDV5ECF.SEARCH&ppt=sp&ppn=sp&ssid=iiw9frtku80000001720622484629&qH=532c28d5412dd75b#:~:text=Extra%20%E2%82%B94000%20off-,%E2%82%B914%2C999,-%E2%82%B918%2C999\""
   ]
  },
  {
   "cell_type": "code",
   "execution_count": 210,
   "id": "a33e2165-0fab-45a1-b789-d4c481a0a652",
   "metadata": {},
   "outputs": [],
   "source": [
    "def extract(url):\n",
    "    try:\n",
    "        # Fetch the webpage content\n",
    "        webpage = requests.get(url)\n",
    "        webpage.raise_for_status()  # Raise an HTTPError for bad responses\n",
    "        web = webpage.content\n",
    "        \n",
    "        # Parse the webpage content\n",
    "        soup = BeautifulSoup(web, \"html.parser\")\n",
    "        \n",
    "        # Extract the specific information (for example, product name and price)\n",
    "        product_name = soup.find(\"span\", {\"class\": \"B_NuCI\"}).text\n",
    "        product_price = soup.find(\"div\", {\"class\": \"_30jeq3 _16Jk6d\"}).text\n",
    "        \n",
    "        # Print the extracted information\n",
    "        print(f\"Product Name: {product_name}\")\n",
    "        print(f\"Product Price: {product_price}\")\n",
    "        \n",
    "    except requests.exceptions.RequestException as e:\n",
    "        print(f\"Error fetching the webpage: {e}\")\n",
    "    except AttributeError as e:\n",
    "        print(f\"Error parsing the webpage: {e}\")\n"
   ]
  },
  {
   "cell_type": "code",
   "execution_count": 213,
   "id": "d33b8797-f335-4743-a14b-3c9bf1f97578",
   "metadata": {},
   "outputs": [],
   "source": [
    "def extract(url3):\n",
    "    webpage=requests.get(url3)\n",
    "    web=webpage.content\n",
    "    soup=BeautifulSoup(web,\"html.parser\")\n",
    "    value=soup.find(\"div\",{\"class\": \"_30jeq3 _16Jk6d\"})\n",
    "    m=value.text\n",
    "    print(m)"
   ]
  },
  {
   "cell_type": "code",
   "execution_count": null,
   "id": "2ff86748-7df4-4ab7-8768-d8257789f769",
   "metadata": {},
   "outputs": [],
   "source": []
  },
  {
   "cell_type": "code",
   "execution_count": null,
   "id": "4e6e3d73-79cb-4092-ab65-0d88cc36eeac",
   "metadata": {},
   "outputs": [],
   "source": []
  }
 ],
 "metadata": {
  "kernelspec": {
   "display_name": "Python 3 (ipykernel)",
   "language": "python",
   "name": "python3"
  },
  "language_info": {
   "codemirror_mode": {
    "name": "ipython",
    "version": 3
   },
   "file_extension": ".py",
   "mimetype": "text/x-python",
   "name": "python",
   "nbconvert_exporter": "python",
   "pygments_lexer": "ipython3",
   "version": "3.11.2"
  }
 },
 "nbformat": 4,
 "nbformat_minor": 5
}
